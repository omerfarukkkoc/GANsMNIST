{
  "nbformat": 4,
  "nbformat_minor": 0,
  "metadata": {
    "kernelspec": {
      "name": "python3",
      "display_name": "Python 3"
    },
    "language_info": {
      "codemirror_mode": {
        "name": "ipython",
        "version": 3
      },
      "file_extension": ".py",
      "mimetype": "text/x-python",
      "name": "python",
      "nbconvert_exporter": "python",
      "pygments_lexer": "ipython3",
      "version": "3.6.4"
    },
    "colab": {
      "name": "gans_mnist.ipynb",
      "version": "0.3.2",
      "provenance": []
    },
    "accelerator": "TPU"
  },
  "cells": [
    {
      "cell_type": "code",
      "metadata": {
        "id": "0HsOYKhiX2Q0",
        "colab_type": "code",
        "colab": {
          "base_uri": "https://localhost:8080/",
          "height": 34
        },
        "outputId": "c1e34c8e-e8c1-48c7-a7c5-0181a8bf2619"
      },
      "source": [
        "from keras.layers import Dense, Dropout, Input, ReLU\n",
        "from keras.models import Model, Sequential\n",
        "from keras.optimizers import Adam\n",
        "from keras.datasets import  mnist\n",
        "import numpy as np\n",
        "import matplotlib.pyplot as plt"
      ],
      "execution_count": 1,
      "outputs": [
        {
          "output_type": "stream",
          "text": [
            "Using TensorFlow backend.\n"
          ],
          "name": "stderr"
        }
      ]
    },
    {
      "cell_type": "code",
      "metadata": {
        "id": "LD-I_mjVX2Q4",
        "colab_type": "code",
        "colab": {
          "base_uri": "https://localhost:8080/",
          "height": 51
        },
        "outputId": "680e3eb8-802b-434a-8916-e7209776ed5c"
      },
      "source": [
        "(x_train, y_train), (x_test, y_test) = mnist.load_data()"
      ],
      "execution_count": 2,
      "outputs": [
        {
          "output_type": "stream",
          "text": [
            "Downloading data from https://s3.amazonaws.com/img-datasets/mnist.npz\n",
            "11493376/11490434 [==============================] - 0s 0us/step\n"
          ],
          "name": "stdout"
        }
      ]
    },
    {
      "cell_type": "code",
      "metadata": {
        "id": "bGJhKpwAX2Q6",
        "colab_type": "code",
        "colab": {}
      },
      "source": [
        "x_train = (x_train.astype(np.float32)-127.5)/127.5"
      ],
      "execution_count": 0,
      "outputs": []
    },
    {
      "cell_type": "code",
      "metadata": {
        "id": "sCGAhUTAX2Q9",
        "colab_type": "code",
        "colab": {
          "base_uri": "https://localhost:8080/",
          "height": 34
        },
        "outputId": "d5031a72-047d-4729-a98d-930a64319cb2"
      },
      "source": [
        "print(x_train.shape)"
      ],
      "execution_count": 4,
      "outputs": [
        {
          "output_type": "stream",
          "text": [
            "(60000, 28, 28)\n"
          ],
          "name": "stdout"
        }
      ]
    },
    {
      "cell_type": "code",
      "metadata": {
        "id": "ftAjFy0qX2RB",
        "colab_type": "code",
        "colab": {}
      },
      "source": [
        "x_train = x_train.reshape(x_train.shape[0], x_train.shape[1]*x_train.shape[1])"
      ],
      "execution_count": 0,
      "outputs": []
    },
    {
      "cell_type": "code",
      "metadata": {
        "id": "g6N02XiuX2RD",
        "colab_type": "code",
        "colab": {
          "base_uri": "https://localhost:8080/",
          "height": 286
        },
        "outputId": "d41af044-14e5-4d97-e03c-854a1cd44283"
      },
      "source": [
        "plt.imshow(x_test[2])"
      ],
      "execution_count": 6,
      "outputs": [
        {
          "output_type": "execute_result",
          "data": {
            "text/plain": [
              "<matplotlib.image.AxesImage at 0x7fdfd4fc7b38>"
            ]
          },
          "metadata": {
            "tags": []
          },
          "execution_count": 6
        },
        {
          "output_type": "display_data",
          "data": {
            "image/png": "[encoded data removed]",
            "text/plain": [
              "<Figure size 432x288 with 1 Axes>"
            ]
          },
          "metadata": {
            "tags": []
          }
        }
      ]
    },
    {
      "cell_type": "code",
      "metadata": {
        "id": "MW8jl6lvX2RG",
        "colab_type": "code",
        "colab": {
          "base_uri": "https://localhost:8080/",
          "height": 286
        },
        "outputId": "40acacb4-721f-4668-f93a-1ce5af94a3a4"
      },
      "source": [
        "plt.imshow(x_train[2].reshape(28,28))"
      ],
      "execution_count": 7,
      "outputs": [
        {
          "output_type": "execute_result",
          "data": {
            "text/plain": [
              "<matplotlib.image.AxesImage at 0x7fdfd275ba20>"
            ]
          },
          "metadata": {
            "tags": []
          },
          "execution_count": 7
        },
        {
          "output_type": "display_data",
          "data": {
            "image/png": "[encoded data removed]",
            "text/plain": [
              "<Figure size 432x288 with 1 Axes>"
            ]
          },
          "metadata": {
            "tags": []
          }
        }
      ]
    },
    {
      "cell_type": "code",
      "metadata": {
        "id": "uAMSMAazX2RJ",
        "colab_type": "code",
        "colab": {}
      },
      "source": [
        "def create_generator():\n",
        "    \n",
        "    generator = Sequential()\n",
        "    generator.add(Dense(units = 512, input_dim = 100))\n",
        "    generator.add(ReLU())\n",
        "    \n",
        "    generator.add(Dense(units = 512))\n",
        "    generator.add(ReLU())\n",
        "    \n",
        "    generator.add(Dense(units = 1024))\n",
        "    generator.add(ReLU())\n",
        "    \n",
        "    generator.add(Dense(units = 784, activation =\"tanh\"))\n",
        "    \n",
        "    generator.compile(loss=\"binary_crossentropy\",\n",
        "                     optimizer=Adam(lr=0.0001, beta_1=0.5))\n",
        "    return generator"
      ],
      "execution_count": 0,
      "outputs": []
    },
    {
      "cell_type": "code",
      "metadata": {
        "id": "RGdOQ70IX2RL",
        "colab_type": "code",
        "colab": {
          "base_uri": "https://localhost:8080/",
          "height": 632
        },
        "outputId": "46cce0f3-f711-4092-b776-de6c4265e4ef"
      },
      "source": [
        "g = create_generator()\n",
        "g.summary()"
      ],
      "execution_count": 9,
      "outputs": [
        {
          "output_type": "stream",
          "text": [
            "WARNING: Logging before flag parsing goes to stderr.\n",
            "W0829 12:35:47.571351 140600295688064 deprecation_wrapper.py:119] From /usr/local/lib/python3.6/dist-packages/keras/backend/tensorflow_backend.py:74: The name tf.get_default_graph is deprecated. Please use tf.compat.v1.get_default_graph instead.\n",
            "\n",
            "W0829 12:35:47.609991 140600295688064 deprecation_wrapper.py:119] From /usr/local/lib/python3.6/dist-packages/keras/backend/tensorflow_backend.py:517: The name tf.placeholder is deprecated. Please use tf.compat.v1.placeholder instead.\n",
            "\n",
            "W0829 12:35:47.617081 140600295688064 deprecation_wrapper.py:119] From /usr/local/lib/python3.6/dist-packages/keras/backend/tensorflow_backend.py:4138: The name tf.random_uniform is deprecated. Please use tf.random.uniform instead.\n",
            "\n",
            "W0829 12:35:47.684884 140600295688064 deprecation_wrapper.py:119] From /usr/local/lib/python3.6/dist-packages/keras/optimizers.py:790: The name tf.train.Optimizer is deprecated. Please use tf.compat.v1.train.Optimizer instead.\n",
            "\n",
            "W0829 12:35:47.691832 140600295688064 deprecation_wrapper.py:119] From /usr/local/lib/python3.6/dist-packages/keras/backend/tensorflow_backend.py:3376: The name tf.log is deprecated. Please use tf.math.log instead.\n",
            "\n",
            "W0829 12:35:47.697892 140600295688064 deprecation.py:323] From /usr/local/lib/python3.6/dist-packages/tensorflow/python/ops/nn_impl.py:180: add_dispatch_support.<locals>.wrapper (from tensorflow.python.ops.array_ops) is deprecated and will be removed in a future version.\n",
            "Instructions for updating:\n",
            "Use tf.where in 2.0, which has the same broadcast rule as np.where\n"
          ],
          "name": "stderr"
        },
        {
          "output_type": "stream",
          "text": [
            "_________________________________________________________________\n",
            "Layer (type)                 Output Shape              Param #   \n",
            "=================================================================\n",
            "dense_1 (Dense)              (None, 512)               51712     \n",
            "_________________________________________________________________\n",
            "re_lu_1 (ReLU)               (None, 512)               0         \n",
            "_________________________________________________________________\n",
            "dense_2 (Dense)              (None, 512)               262656    \n",
            "_________________________________________________________________\n",
            "re_lu_2 (ReLU)               (None, 512)               0         \n",
            "_________________________________________________________________\n",
            "dense_3 (Dense)              (None, 1024)              525312    \n",
            "_________________________________________________________________\n",
            "re_lu_3 (ReLU)               (None, 1024)              0         \n",
            "_________________________________________________________________\n",
            "dense_4 (Dense)              (None, 784)               803600    \n",
            "=================================================================\n",
            "Total params: 1,643,280\n",
            "Trainable params: 1,643,280\n",
            "Non-trainable params: 0\n",
            "_________________________________________________________________\n"
          ],
          "name": "stdout"
        }
      ]
    },
    {
      "cell_type": "code",
      "metadata": {
        "id": "NUParTxyX2RP",
        "colab_type": "code",
        "colab": {}
      },
      "source": [
        "def create_discriminator():\n",
        "    discriminator = Sequential()\n",
        "    discriminator.add(Dense(units = 1024, input_dim = 784))\n",
        "    discriminator.add(ReLU())\n",
        "    discriminator.add(Dropout(0.4))\n",
        "    \n",
        "    discriminator.add(Dense(units = 512))\n",
        "    discriminator.add(ReLU())\n",
        "    discriminator.add(Dropout(0.4))\n",
        "    \n",
        "    discriminator.add(Dense(units = 256))\n",
        "    discriminator.add(ReLU())\n",
        "    \n",
        "    discriminator.add(Dense(units=1, activation=\"sigmoid\"))\n",
        "    \n",
        "    discriminator.compile(loss=\"binary_crossentropy\",\n",
        "                         optimizer = Adam(lr=0.0001, beta_1 = 0.5))\n",
        "    return discriminator\n",
        "                          "
      ],
      "execution_count": 0,
      "outputs": []
    },
    {
      "cell_type": "code",
      "metadata": {
        "id": "qzB7fiRtX2RR",
        "colab_type": "code",
        "colab": {
          "base_uri": "https://localhost:8080/",
          "height": 547
        },
        "outputId": "e4bdde87-2790-4d46-d024-3c0008fc840d"
      },
      "source": [
        "d=create_discriminator()\n",
        "d.summary()"
      ],
      "execution_count": 11,
      "outputs": [
        {
          "output_type": "stream",
          "text": [
            "W0829 12:35:52.492655 140600295688064 deprecation_wrapper.py:119] From /usr/local/lib/python3.6/dist-packages/keras/backend/tensorflow_backend.py:133: The name tf.placeholder_with_default is deprecated. Please use tf.compat.v1.placeholder_with_default instead.\n",
            "\n",
            "W0829 12:35:52.505102 140600295688064 deprecation.py:506] From /usr/local/lib/python3.6/dist-packages/keras/backend/tensorflow_backend.py:3445: calling dropout (from tensorflow.python.ops.nn_ops) with keep_prob is deprecated and will be removed in a future version.\n",
            "Instructions for updating:\n",
            "Please use `rate` instead of `keep_prob`. Rate should be set to `rate = 1 - keep_prob`.\n"
          ],
          "name": "stderr"
        },
        {
          "output_type": "stream",
          "text": [
            "_________________________________________________________________\n",
            "Layer (type)                 Output Shape              Param #   \n",
            "=================================================================\n",
            "dense_5 (Dense)              (None, 1024)              803840    \n",
            "_________________________________________________________________\n",
            "re_lu_4 (ReLU)               (None, 1024)              0         \n",
            "_________________________________________________________________\n",
            "dropout_1 (Dropout)          (None, 1024)              0         \n",
            "_________________________________________________________________\n",
            "dense_6 (Dense)              (None, 512)               524800    \n",
            "_________________________________________________________________\n",
            "re_lu_5 (ReLU)               (None, 512)               0         \n",
            "_________________________________________________________________\n",
            "dropout_2 (Dropout)          (None, 512)               0         \n",
            "_________________________________________________________________\n",
            "dense_7 (Dense)              (None, 256)               131328    \n",
            "_________________________________________________________________\n",
            "re_lu_6 (ReLU)               (None, 256)               0         \n",
            "_________________________________________________________________\n",
            "dense_8 (Dense)              (None, 1)                 257       \n",
            "=================================================================\n",
            "Total params: 1,460,225\n",
            "Trainable params: 1,460,225\n",
            "Non-trainable params: 0\n",
            "_________________________________________________________________\n"
          ],
          "name": "stdout"
        }
      ]
    },
    {
      "cell_type": "code",
      "metadata": {
        "id": "JaLGfiuKX2RU",
        "colab_type": "code",
        "colab": {}
      },
      "source": [
        "def create_gan(discriminator, generator):\n",
        "    discriminator.trainable = False\n",
        "    gan_input = Input(shape=(100,))\n",
        "    x = generator(gan_input)\n",
        "    gan_output = discriminator(x)\n",
        "    gan = Model(inputs = gan_input, outputs = gan_output)\n",
        "    gan.compile(loss=\"binary_crossentropy\", optimizer=\"adam\")\n",
        "    return gan"
      ],
      "execution_count": 0,
      "outputs": []
    },
    {
      "cell_type": "code",
      "metadata": {
        "id": "2wx3TvMTX2RW",
        "colab_type": "code",
        "colab": {
          "base_uri": "https://localhost:8080/",
          "height": 238
        },
        "outputId": "b0965bea-9393-4d99-e3ed-4b2a90653173"
      },
      "source": [
        "gan = create_gan(d, g)\n",
        "gan.summary()"
      ],
      "execution_count": 13,
      "outputs": [
        {
          "output_type": "stream",
          "text": [
            "_________________________________________________________________\n",
            "Layer (type)                 Output Shape              Param #   \n",
            "=================================================================\n",
            "input_1 (InputLayer)         (None, 100)               0         \n",
            "_________________________________________________________________\n",
            "sequential_1 (Sequential)    (None, 784)               1643280   \n",
            "_________________________________________________________________\n",
            "sequential_2 (Sequential)    (None, 1)                 1460225   \n",
            "=================================================================\n",
            "Total params: 3,103,505\n",
            "Trainable params: 1,643,280\n",
            "Non-trainable params: 1,460,225\n",
            "_________________________________________________________________\n"
          ],
          "name": "stdout"
        }
      ]
    },
    {
      "cell_type": "code",
      "metadata": {
        "id": "LdQysC6yX2RZ",
        "colab_type": "code",
        "colab": {}
      },
      "source": [
        "epochs = 50\n",
        "batch_size = 256"
      ],
      "execution_count": 0,
      "outputs": []
    },
    {
      "cell_type": "code",
      "metadata": {
        "id": "2eMrbwoOX2Rc",
        "colab_type": "code",
        "colab": {
          "base_uri": "https://localhost:8080/",
          "height": 867
        },
        "outputId": "0f473a72-114b-479e-8dcc-7fc15f452b1d"
      },
      "source": [
        "for e in range(epochs):\n",
        "    for _ in range(batch_size):\n",
        "        \n",
        "        noise = np.random.normal(0,1, [batch_size,100])\n",
        "        \n",
        "        generated_images = g.predict(noise)\n",
        "        \n",
        "        image_batch = x_train[np.random.randint(low = 0, high = x_train.shape[0], size = batch_size)]\n",
        "        \n",
        "        x = np.concatenate([image_batch, generated_images])\n",
        "        \n",
        "        y_dis = np.zeros(batch_size * 2)\n",
        "        \n",
        "        y_dis[:batch_size] = 1\n",
        "        \n",
        "        d.trainable = True\n",
        "        d.train_on_batch(x, y_dis)\n",
        "        \n",
        "        noise = np.random.normal(0,1, [batch_size,100])\n",
        "        \n",
        "        y_gen = np.ones(batch_size)\n",
        "        \n",
        "        d.trainable = False\n",
        "        \n",
        "        gan.train_on_batch(noise, y_gen)\n",
        "        \n",
        "    print(\"Epochs: \", e)"
      ],
      "execution_count": 15,
      "outputs": [
        {
          "output_type": "stream",
          "text": [
            "Epochs:  0\n",
            "Epochs:  1\n",
            "Epochs:  2\n",
            "Epochs:  3\n",
            "Epochs:  4\n",
            "Epochs:  5\n",
            "Epochs:  6\n",
            "Epochs:  7\n",
            "Epochs:  8\n",
            "Epochs:  9\n",
            "Epochs:  10\n",
            "Epochs:  11\n",
            "Epochs:  12\n",
            "Epochs:  13\n",
            "Epochs:  14\n",
            "Epochs:  15\n",
            "Epochs:  16\n",
            "Epochs:  17\n",
            "Epochs:  18\n",
            "Epochs:  19\n",
            "Epochs:  20\n",
            "Epochs:  21\n",
            "Epochs:  22\n",
            "Epochs:  23\n",
            "Epochs:  24\n",
            "Epochs:  25\n",
            "Epochs:  26\n",
            "Epochs:  27\n",
            "Epochs:  28\n",
            "Epochs:  29\n",
            "Epochs:  30\n",
            "Epochs:  31\n",
            "Epochs:  32\n",
            "Epochs:  33\n",
            "Epochs:  34\n",
            "Epochs:  35\n",
            "Epochs:  36\n",
            "Epochs:  37\n",
            "Epochs:  38\n",
            "Epochs:  39\n",
            "Epochs:  40\n",
            "Epochs:  41\n",
            "Epochs:  42\n",
            "Epochs:  43\n",
            "Epochs:  44\n",
            "Epochs:  45\n",
            "Epochs:  46\n",
            "Epochs:  47\n",
            "Epochs:  48\n",
            "Epochs:  49\n"
          ],
          "name": "stdout"
        }
      ]
    },
    {
      "cell_type": "code",
      "metadata": {
        "id": "0Ob_wznsX2Rf",
        "colab_type": "code",
        "colab": {}
      },
      "source": [
        "g.save_weights('gans_model.h5')"
      ],
      "execution_count": 0,
      "outputs": []
    },
    {
      "cell_type": "code",
      "metadata": {
        "id": "DfpSi99pX2Rh",
        "colab_type": "code",
        "colab": {
          "base_uri": "https://localhost:8080/",
          "height": 265
        },
        "outputId": "45b0fd4b-1f05-4179-d67a-ffede3d344fa"
      },
      "source": [
        "noise = np.random.normal(loc = 0, scale = 1, size = [100,100])\n",
        "generated_images = g.predict(noise)\n",
        "generated_images = generated_images.reshape(100,28,28)\n",
        "plt.imshow(generated_images[0], interpolation = 'nearest')\n",
        "plt.axis('off')\n",
        "plt.show()"
      ],
      "execution_count": 21,
      "outputs": [
        {
          "output_type": "display_data",
          "data": {
            "image/png": "[encoded data removed]",
            "text/plain": [
              "<Figure size 432x288 with 1 Axes>"
            ]
          },
          "metadata": {
            "tags": []
          }
        }
      ]
    },
    {
      "cell_type": "code",
      "metadata": {
        "id": "-RMl5oU4Z-CN",
        "colab_type": "code",
        "colab": {
          "base_uri": "https://localhost:8080/",
          "height": 265
        },
        "outputId": "29f8291e-1580-4f30-ef67-e0a5cd42a42d"
      },
      "source": [
        "noise = np.random.normal(loc = 0, scale = 1, size = [100,100])\n",
        "generated_images = g.predict(noise)\n",
        "generated_images = generated_images.reshape(100,28,28)\n",
        "plt.imshow(generated_images[5], interpolation = 'nearest')\n",
        "plt.axis('off')\n",
        "plt.show()"
      ],
      "execution_count": 22,
      "outputs": [
        {
          "output_type": "display_data",
          "data": {
            "image/png": "[encoded data removed]",
            "text/plain": [
              "<Figure size 432x288 with 1 Axes>"
            ]
          },
          "metadata": {
            "tags": []
          }
        }
      ]
    }
  ]
}